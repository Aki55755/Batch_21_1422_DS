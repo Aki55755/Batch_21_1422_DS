{
  "nbformat": 4,
  "nbformat_minor": 0,
  "metadata": {
    "colab": {
      "provenance": [],
      "authorship_tag": "ABX9TyMHJ3/g2E+zdxxCl9mYeARE",
      "include_colab_link": true
    },
    "kernelspec": {
      "name": "python3",
      "display_name": "Python 3"
    },
    "language_info": {
      "name": "python"
    }
  },
  "cells": [
    {
      "cell_type": "markdown",
      "metadata": {
        "id": "view-in-github",
        "colab_type": "text"
      },
      "source": [
        "<a href=\"https://colab.research.google.com/github/Aki55755/Batch_21_1422_DS/blob/main/Lab_3_py.ipynb\" target=\"_parent\"><img src=\"https://colab.research.google.com/assets/colab-badge.svg\" alt=\"Open In Colab\"/></a>"
      ]
    },
    {
      "cell_type": "code",
      "source": [
        " import numpy as np\n",
        " test_scores = np.random.randint(50, 101, size=(4, 4))\n",
        " print(test_scores)"
      ],
      "metadata": {
        "colab": {
          "base_uri": "https://localhost:8080/"
        },
        "id": "agTp9AQqPg2x",
        "outputId": "022e7f4c-106c-49e7-df91-38b33318fb2f"
      },
      "execution_count": null,
      "outputs": [
        {
          "output_type": "stream",
          "name": "stdout",
          "text": [
            "[[77 80 54 62]\n",
            " [70 50 59 96]\n",
            " [99 89 91 53]\n",
            " [54 85 70 51]]\n"
          ]
        }
      ]
    },
    {
      "cell_type": "code",
      "source": [
        " column_means = np.mean(test_scores, axis=0)\n",
        " row_means = np.mean(test_scores, axis=1)\n",
        " print(\"Column-wise means:\", column_means)\n",
        " print(\"Row-wise means:\", row_means)"
      ],
      "metadata": {
        "colab": {
          "base_uri": "https://localhost:8080/"
        },
        "id": "T13jQBIlPgzq",
        "outputId": "899cb7db-bf2b-44b0-c5e9-b15873594892"
      },
      "execution_count": null,
      "outputs": [
        {
          "output_type": "stream",
          "name": "stdout",
          "text": [
            "Column-wise means: [75.  76.  68.5 65.5]\n",
            "Row-wise means: [68.25 68.75 83.   65.  ]\n"
          ]
        }
      ]
    },
    {
      "cell_type": "code",
      "source": [
        " std_dev = np.std(test_scores)\n",
        " variance = np.var(test_scores)\n",
        " print(\"Standard Deviation:\", std_dev)\n",
        " print(\"Variance:\", variance)"
      ],
      "metadata": {
        "colab": {
          "base_uri": "https://localhost:8080/"
        },
        "id": "jWkMrjLBPgxn",
        "outputId": "3565b108-cece-43e4-f12e-7ae0fb19bdcd"
      },
      "execution_count": null,
      "outputs": [
        {
          "output_type": "stream",
          "name": "stdout",
          "text": [
            "Standard Deviation: 16.611366590380214\n",
            "Variance: 275.9375\n"
          ]
        }
      ]
    },
    {
      "cell_type": "code",
      "source": [
        " min_value = np.min(test_scores)\n",
        " max_value = np.max(test_scores)\n",
        " min_index = np.argmin(test_scores)\n",
        " max_index = np.argmax(test_scores)\n",
        " print(\"Minimum value:\", min_value)\n",
        " print(\"Maximum value:\", max_value)\n",
        " print(\"Index of minimum value:\", min_index)\n",
        " print(\"Index of maximum value:\", max_index)"
      ],
      "metadata": {
        "colab": {
          "base_uri": "https://localhost:8080/"
        },
        "id": "tEKSG6X6Pgvk",
        "outputId": "6999b87c-916a-4fc2-b230-b3be03dba929"
      },
      "execution_count": null,
      "outputs": [
        {
          "output_type": "stream",
          "name": "stdout",
          "text": [
            "Minimum value: 50\n",
            "Maximum value: 99\n",
            "Index of minimum value: 5\n",
            "Index of maximum value: 8\n"
          ]
        }
      ]
    },
    {
      "cell_type": "code",
      "source": [
        " print(\"Statistical Analysis Summary:\")\n",
        " print(f\"Row-wise means: {row_means}\")\n",
        " print(f\"Column-wise means: {column_means}\")\n",
        " print(f\"Overall Standard Deviation: {std_dev}\")\n",
        " print(f\"Overall Variance: {variance}\")\n",
        " print(f\"Global Minimum Value: {min_value} (Index: {min_index})\")\n",
        " print(f\"Global Maximum Value: {max_value} (Index: {max_index})\")"
      ],
      "metadata": {
        "colab": {
          "base_uri": "https://localhost:8080/"
        },
        "id": "E4QcTzHcPgtm",
        "outputId": "66f91ffa-0f19-47a6-a7d7-b0f7eece1e6f"
      },
      "execution_count": null,
      "outputs": [
        {
          "output_type": "stream",
          "name": "stdout",
          "text": [
            "Statistical Analysis Summary:\n",
            "Row-wise means: [68.25 68.75 83.   65.  ]\n",
            "Column-wise means: [75.  76.  68.5 65.5]\n",
            "Overall Standard Deviation: 16.611366590380214\n",
            "Overall Variance: 275.9375\n",
            "Global Minimum Value: 50 (Index: 5)\n",
            "Global Maximum Value: 99 (Index: 8)\n"
          ]
        }
      ]
    },
    {
      "cell_type": "code",
      "source": [
        "rgb_image = np.random.randint(0, 256, size=(3, 3, 3))\n",
        "print(rgb_image)"
      ],
      "metadata": {
        "colab": {
          "base_uri": "https://localhost:8080/"
        },
        "id": "nZkEdQhKPgrc",
        "outputId": "71fe5e39-3c23-465a-d7ef-9e8f438fb77d"
      },
      "execution_count": null,
      "outputs": [
        {
          "output_type": "stream",
          "name": "stdout",
          "text": [
            "[[[121  12 150]\n",
            "  [200 223 105]\n",
            "  [ 78 143 126]]\n",
            "\n",
            " [[253 204 201]\n",
            "  [139 118   6]\n",
            "  [ 58 176  58]]\n",
            "\n",
            " [[ 31  41  37]\n",
            "  [ 74  99 109]\n",
            "  [ 61 210 200]]]\n"
          ]
        }
      ]
    },
    {
      "cell_type": "code",
      "source": [
        " red_channel = rgb_image[:, :, 0]\n",
        " green_channel = rgb_image[:, :, 1]\n",
        " blue_channel = rgb_image[:, :, 2]\n",
        " print(\"Red Channel:\\n\", red_channel)"
      ],
      "metadata": {
        "colab": {
          "base_uri": "https://localhost:8080/"
        },
        "id": "6yPWgV2DPgpN",
        "outputId": "e8ee0598-8eca-4508-c452-c2d17db6a5e6"
      },
      "execution_count": null,
      "outputs": [
        {
          "output_type": "stream",
          "name": "stdout",
          "text": [
            "Red Channel:\n",
            " [[121 200  78]\n",
            " [253 139  58]\n",
            " [ 31  74  61]]\n"
          ]
        }
      ]
    },
    {
      "cell_type": "code",
      "source": [
        " print(\"Green Channel:\\n\", green_channel)\n",
        " print(\"Blue Channel:\\n\", blue_channel)"
      ],
      "metadata": {
        "colab": {
          "base_uri": "https://localhost:8080/"
        },
        "id": "M6fwkUulPgnC",
        "outputId": "d84cdfe5-0392-40e9-c79b-cc51e4cc0388"
      },
      "execution_count": null,
      "outputs": [
        {
          "output_type": "stream",
          "name": "stdout",
          "text": [
            "Green Channel:\n",
            " [[ 12 223 143]\n",
            " [204 118 176]\n",
            " [ 41  99 210]]\n",
            "Blue Channel:\n",
            " [[150 105 126]\n",
            " [201   6  58]\n",
            " [ 37 109 200]]\n"
          ]
        }
      ]
    },
    {
      "cell_type": "code",
      "source": [
        "red_mean = np.mean(red_channel)\n",
        "green_mean = np.mean(green_channel)\n",
        "blue_mean = np.mean(blue_channel)\n",
        "print(f\"Average pixel intensity for Red channel: {red_mean}\")\n",
        "print(f\"Average pixel intensity for Green channel: {green_mean}\")\n",
        "print(f\"Average pixel intensity for Blue channel: {blue_mean}\")"
      ],
      "metadata": {
        "colab": {
          "base_uri": "https://localhost:8080/"
        },
        "id": "bWRc10zHPgkc",
        "outputId": "4e95118b-21da-4e22-e11c-c903825b1031"
      },
      "execution_count": null,
      "outputs": [
        {
          "output_type": "stream",
          "name": "stdout",
          "text": [
            "Average pixel intensity for Red channel: 112.77777777777777\n",
            "Average pixel intensity for Green channel: 136.22222222222223\n",
            "Average pixel intensity for Blue channel: 110.22222222222223\n"
          ]
        }
      ]
    },
    {
      "cell_type": "code",
      "source": [
        " brightness_increase = 50\n",
        " brightened_image = np.clip(rgb_image + brightness_increase, 0, 255)\n",
        " print(\"Brightened Image (clipped at 255):\\n\", brightened_image)"
      ],
      "metadata": {
        "colab": {
          "base_uri": "https://localhost:8080/"
        },
        "id": "cFLkfSxbQI4H",
        "outputId": "d050caf1-3937-4b3c-9067-ec2b8e169b2f"
      },
      "execution_count": null,
      "outputs": [
        {
          "output_type": "stream",
          "name": "stdout",
          "text": [
            "Brightened Image (clipped at 255):\n",
            " [[[171  62 200]\n",
            "  [250 255 155]\n",
            "  [128 193 176]]\n",
            "\n",
            " [[255 254 251]\n",
            "  [189 168  56]\n",
            "  [108 226 108]]\n",
            "\n",
            " [[ 81  91  87]\n",
            "  [124 149 159]\n",
            "  [111 255 250]]]\n"
          ]
        }
      ]
    },
    {
      "cell_type": "code",
      "source": [
        " print(\"Statistical Analysis Summary:\")\n",
        " print(\"Red Channel:\\n\", red_channel)\n",
        " print(\"Green Channel:\\n\", green_channel)\n",
        " print(\"Blue Channel:\\n\", blue_channel)\n",
        " print(f\"\\nAverage pixel intensity for Red channel: {red_mean}\")\n",
        " print(f\"Average pixel intensity for Green channel: {green_mean}\")\n",
        " print(f\"Average pixel intensity for Blue channel: {blue_mean}\")\n",
        " print(\"\\nBrightened Image (clipped at 255):\\n\", brightened_image)"
      ],
      "metadata": {
        "colab": {
          "base_uri": "https://localhost:8080/"
        },
        "id": "2fZaRHLDQktr",
        "outputId": "bf49e18c-932b-463b-9de4-0b7623ce9181"
      },
      "execution_count": null,
      "outputs": [
        {
          "output_type": "stream",
          "name": "stdout",
          "text": [
            "Statistical Analysis Summary:\n",
            "Red Channel:\n",
            " [[121 200  78]\n",
            " [253 139  58]\n",
            " [ 31  74  61]]\n",
            "Green Channel:\n",
            " [[ 12 223 143]\n",
            " [204 118 176]\n",
            " [ 41  99 210]]\n",
            "Blue Channel:\n",
            " [[150 105 126]\n",
            " [201   6  58]\n",
            " [ 37 109 200]]\n",
            "\n",
            "Average pixel intensity for Red channel: 112.77777777777777\n",
            "Average pixel intensity for Green channel: 136.22222222222223\n",
            "Average pixel intensity for Blue channel: 110.22222222222223\n",
            "\n",
            "Brightened Image (clipped at 255):\n",
            " [[[171  62 200]\n",
            "  [250 255 155]\n",
            "  [128 193 176]]\n",
            "\n",
            " [[255 254 251]\n",
            "  [189 168  56]\n",
            "  [108 226 108]]\n",
            "\n",
            " [[ 81  91  87]\n",
            "  [124 149 159]\n",
            "  [111 255 250]]]\n"
          ]
        }
      ]
    }
  ]
}